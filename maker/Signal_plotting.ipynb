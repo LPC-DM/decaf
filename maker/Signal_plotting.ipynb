{
 "cells": [
  {
   "cell_type": "code",
   "execution_count": 1,
   "metadata": {},
   "outputs": [],
   "source": [
    "from __future__ import print_function, division\n",
    "from collections import defaultdict, OrderedDict\n",
    "import gzip\n",
    "import pickle\n",
    "import json\n",
    "import os\n",
    "import uproot\n",
    "import matplotlib.pyplot as plt\n",
    "%matplotlib inline\n",
    "import numpy as np\n",
    "from coffea import hist, processor \n",
    "from coffea.hist import plot"
   ]
  },
  {
   "cell_type": "code",
   "execution_count": 2,
   "metadata": {},
   "outputs": [],
   "source": [
    "hists={}\n",
    "pd = []\n",
    "year = '2018'\n",
    "dirname = '../grinder/pods/' + year\n",
    "for filename in os.listdir(dirname):\n",
    "    if 'MET' in filename or 'SingleElectron' in filename or 'SinglePhoton' in filename or 'EGamma' in filename: continue\n",
    "    if '.pkl.gz' in filename:\n",
    "        if filename.split(\"____\")[0] not in pd: pd.append(filename.split(\"____\")[0])\n",
    "        with gzip.open(dirname+'/'+filename) as fin:\n",
    "            hin = pickle.load(fin)\n",
    "            for k in hin.keys():\n",
    "                if k in hists: hists[k]+=hin[k]\n",
    "                else: hists[k]=hin[k]"
   ]
  },
  {
   "cell_type": "code",
   "execution_count": 3,
   "metadata": {},
   "outputs": [],
   "source": [
    "pdataset = hist.Cat(\"pdataset\", \"pdataset\", sorting='placement')\n",
    "pdataset_cats = (\"dataset\",)\n",
    "pdataset_map = OrderedDict()\n",
    "\n",
    "for pdi in pd:\n",
    "    pdataset_map[pdi] = (pdi+\"*\",)\n",
    "\n",
    "for key in hists.keys():\n",
    "    hists[key] = hists[key].group(pdataset, pdataset_cats, pdataset_map)"
   ]
  },
  {
   "cell_type": "code",
   "execution_count": 4,
   "metadata": {},
   "outputs": [
    {
     "name": "stdout",
     "output_type": "stream",
     "text": [
      "MonoHs_Mzprime_500_Mhs_50_Mchi_150 291434.97132873535\n",
      "MonoW_Mzprime_500_Mchi_150 288972.98516845703\n",
      "MonoHs_Mzprime_500_Mhs_70_Mchi_150 296860.1000366211\n",
      "MonoZ_Mzprime_500_Mchi_150 292182.6672363281\n",
      "MonoHs_Mzprime_500_Mhs_90_Mchi_150 297390.70458984375\n",
      "MonoJet_Mzprime_500_Mchi_150 308220.1226196289\n"
     ]
    }
   ],
   "source": [
    "scale={}\n",
    "for pdi in hists['sumw'].identifiers('pdataset'):\n",
    "    scale[pdi]=hists['sumw'].project('pdataset', pdi).values(overflow='all')[()][1]\n",
    "    print(pdi,scale[pdi])\n",
    "\n",
    "for key in hists.keys():\n",
    "    if key=='sumw': continue\n",
    "    for pdi in hists[key].identifiers('pdataset'):\n",
    "        hists[key].scale({pdi:1/scale[pdi]},axis='pdataset')"
   ]
  },
  {
   "cell_type": "code",
   "execution_count": 5,
   "metadata": {},
   "outputs": [
    {
     "name": "stdout",
     "output_type": "stream",
     "text": [
      "sumw\n",
      "CaloMinusPfOverRecoil\n",
      "recoil\n",
      "mindphi\n",
      "j1pt\n",
      "j1eta\n",
      "j1phi\n",
      "fj1pt\n",
      "fj1eta\n",
      "fj1phi\n",
      "njets\n",
      "ndcsvL\n",
      "ndflvL\n",
      "ndcsvM\n",
      "ndflvM\n",
      "ndcsvT\n",
      "ndflvT\n",
      "nfjtot\n",
      "nfjgood\n",
      "nfjclean\n",
      "fjmass\n",
      "e1pt\n",
      "e1eta\n",
      "e1phi\n",
      "mu1pt\n",
      "mu1eta\n",
      "mu1phi\n",
      "TopTagger\n",
      "DarkHiggsTagger\n",
      "VvsQCDTagger\n",
      "probTbcq\n",
      "probTbqq\n",
      "probTbc\n",
      "probTbq\n",
      "probWcq\n",
      "probWqq\n",
      "probZbb\n",
      "probZcc\n",
      "probZqq\n",
      "probHbb\n",
      "probHcc\n",
      "probHqqqq\n",
      "probQCDbb\n",
      "probQCDcc\n",
      "probQCDb\n",
      "probQCDc\n",
      "probQCDothers\n"
     ]
    }
   ],
   "source": [
    "process = hist.Cat(\"process\", \"Process\", sorting='placement')\n",
    "\n",
    "#process_cats = (\"pdataset\",)\n",
    "#process_map = OrderedDict()\n",
    "#process_map[\"TT\"] = (\"TT*\",)\n",
    "\n",
    "signal_cats = (\"pdataset\",)\n",
    "signal_map = OrderedDict() ### for signal samples\n",
    "signal_map[\"Mhs_50\"] = (\"*Mhs_50*\",)  ## signals\n",
    "signal_map[\"Mhs_70\"] = (\"*Mhs_70*\",)\n",
    "signal_map[\"Mhs_90\"] = (\"*Mhs_90*\",)\n",
    "signal_map[\"MonoJet\"] = (\"MonoJet*\",)  ## signals\n",
    "signal_map[\"MonoW\"] = (\"MonoW*\",)    ## signals\n",
    "signal_map[\"MonoZ\"] = (\"MonoZ*\",)    ## signals\n",
    "signal_hists = {}\n",
    "\n",
    "for key in hists.keys():\n",
    "    signal_hists[key] = hists[key].group(process, signal_cats, signal_map)\n",
    "    #hists[key] = hists[key].group(process, process_cats, process_map)\n",
    "    print(key)"
   ]
  },
  {
   "cell_type": "code",
   "execution_count": 6,
   "metadata": {},
   "outputs": [],
   "source": [
    "hists['recoil'].axis('recoil').label = 'Hadronic Recoil (GeV)'\n",
    "hists['fj1pt'].axis('fj1pt').label = 'AK15 Leading Jet Pt (GeV)'\n",
    "hists['j1pt'].axis('j1pt').label = 'AK4 Leading Jet Pt (GeV)'\n",
    "hists['fjmass'].axis('fjmass').label = 'AK15 Leading Jet Mass (GeV)'"
   ]
  },
  {
   "cell_type": "code",
   "execution_count": 7,
   "metadata": {},
   "outputs": [
    {
     "name": "stdout",
     "output_type": "stream",
     "text": [
      "------------------\n",
      "------------------\n",
      "Category: iszeroL\n",
      "------------------\n",
      "Mhs_50 14315.5\n",
      "Mhs_70 14829.6\n",
      "Mhs_90 15693.2\n",
      "MonoJet 21191.6\n",
      "MonoW 19380.3\n",
      "MonoZ 19854.3\n",
      "------------------\n",
      "------------------\n",
      "\n"
     ]
    }
   ],
   "source": [
    "region = 'iszeroL'\n",
    "jet_selection = 'baggy'\n",
    "print('------------------')\n",
    "print('------------------')\n",
    "print('Category:',region)\n",
    "print('------------------')\n",
    "\n",
    "#for p in hists['recoil'].identifiers('process'):\n",
    "#    yld = np.sum(hists['recoil'].project('jet_selection',jet_selection).project('region',region).project('process', p).values(overflow='all')[()])\n",
    "#    print(p, '%.1f' % yld)\n",
    "\n",
    "for p in signal_hists['recoil'].identifiers('process'):\n",
    "    yld = np.sum(signal_hists['recoil'].project('jet_selection',jet_selection).project('region',region).project('process', p).values(overflow='all')[()])\n",
    "    print(p, '%.1f' % yld)\n",
    "    \n",
    "print('------------------')\n",
    "print('------------------')\n",
    "print()"
   ]
  },
  {
   "cell_type": "code",
   "execution_count": 8,
   "metadata": {},
   "outputs": [
    {
     "name": "stdout",
     "output_type": "stream",
     "text": [
      "------------------\n",
      "------------------\n",
      "Category: iszeroL\n",
      "------------------\n",
      "Mhs_50 11681.4\n",
      "Mhs_70 12179.9\n",
      "Mhs_90 12735.8\n",
      "MonoJet 18916.9\n",
      "MonoW 17511.0\n",
      "MonoZ 18004.3\n",
      "------------------\n",
      "------------------\n",
      "\n"
     ]
    }
   ],
   "source": [
    "region = 'iszeroL'\n",
    "jet_selection = 'topveto'\n",
    "print('------------------')\n",
    "print('------------------')\n",
    "print('Category:',region)\n",
    "print('------------------')\n",
    "\n",
    "#for p in hists['recoil'].identifiers('process'):\n",
    "#    yld = np.sum(hists['recoil'].project('jet_selection',jet_selection).project('region',region).project('process', p).values(overflow='all')[()])\n",
    "#    print(p, '%.1f' % yld)\n",
    "\n",
    "for p in signal_hists['recoil'].identifiers('process'):\n",
    "    yld = np.sum(signal_hists['recoil'].project('jet_selection',jet_selection).project('region',region).project('process', p).values(overflow='all')[()])\n",
    "    print(p, '%.1f' % yld)\n",
    "    \n",
    "print('------------------')\n",
    "print('------------------')\n",
    "print()"
   ]
  },
  {
   "cell_type": "code",
   "execution_count": 9,
   "metadata": {},
   "outputs": [
    {
     "name": "stdout",
     "output_type": "stream",
     "text": [
      "------------------\n",
      "------------------\n",
      "Category: iszeroL\n",
      "------------------\n",
      "Mhs_50 10205.3\n",
      "Mhs_70 10827.6\n",
      "Mhs_90 11424.1\n",
      "MonoJet 1178.7\n",
      "MonoW 1106.9\n",
      "MonoZ 1302.4\n",
      "------------------\n",
      "------------------\n",
      "\n"
     ]
    }
   ],
   "source": [
    "region = 'iszeroL'\n",
    "jet_selection = 'ismonohs'\n",
    "print('------------------')\n",
    "print('------------------')\n",
    "print('Category:',region)\n",
    "print('------------------')\n",
    "#for p in hists['recoil'].identifiers('process'):\n",
    "#    yld = np.sum(hists['recoil'].project('jet_selection',jet_selection).project('region',region).project('process', p).values(overflow='all')[()])\n",
    "#    print(p, '%.1f' % yld)\n",
    "\n",
    "for p in signal_hists['recoil'].identifiers('process'):\n",
    "    yld = np.sum(signal_hists['recoil'].project('jet_selection',jet_selection).project('region',region).project('process', p).values(overflow='all')[()])\n",
    "    print(p, '%.1f' % yld)\n",
    "    \n",
    "print('------------------')\n",
    "print('------------------')\n",
    "print()"
   ]
  },
  {
   "cell_type": "code",
   "execution_count": 10,
   "metadata": {},
   "outputs": [
    {
     "name": "stdout",
     "output_type": "stream",
     "text": [
      "------------------\n",
      "------------------\n",
      "Category: iszeroL\n",
      "------------------\n",
      "Mhs_50 752.9\n",
      "Mhs_70 759.0\n",
      "Mhs_90 735.8\n",
      "MonoJet 6005.2\n",
      "MonoW 11334.6\n",
      "MonoZ 11338.1\n",
      "------------------\n",
      "------------------\n",
      "\n"
     ]
    }
   ],
   "source": [
    "region = 'iszeroL'\n",
    "jet_selection = 'ismonoV'\n",
    "print('------------------')\n",
    "print('------------------')\n",
    "print('Category:',region)\n",
    "print('------------------')\n",
    "\n",
    "#for p in hists['recoil'].identifiers('process'):\n",
    "#    yld = np.sum(hists['recoil'].project('jet_selection',jet_selection).project('region',region).project('process', p).values(overflow='all')[()])\n",
    "#    print(p, '%.1f' % yld)\n",
    "\n",
    "for p in signal_hists['recoil'].identifiers('process'):\n",
    "    yld = np.sum(signal_hists['recoil'].project('jet_selection',jet_selection).project('region',region).project('process', p).values(overflow='all')[()])\n",
    "    print(p, '%.1f' % yld)\n",
    "    \n",
    "print('------------------')\n",
    "print('------------------')\n",
    "print()"
   ]
  },
  {
   "cell_type": "code",
   "execution_count": 11,
   "metadata": {},
   "outputs": [
    {
     "name": "stdout",
     "output_type": "stream",
     "text": [
      "------------------\n",
      "------------------\n",
      "Category: iszeroL\n",
      "------------------\n",
      "Mhs_50 723.2\n",
      "Mhs_70 593.2\n",
      "Mhs_90 575.8\n",
      "MonoJet 11733.0\n",
      "MonoW 5069.6\n",
      "MonoZ 5363.7\n",
      "------------------\n",
      "------------------\n",
      "\n"
     ]
    }
   ],
   "source": [
    "region = 'iszeroL'\n",
    "jet_selection = 'ismonojet'\n",
    "print('------------------')\n",
    "print('------------------')\n",
    "print('Category:',region)\n",
    "print('------------------')\n",
    "\n",
    "#for p in hists['recoil'].identifiers('process'):\n",
    "#    yld = np.sum(hists['recoil'].project('jet_selection',jet_selection).project('region',region).project('process', p).values(overflow='all')[()])\n",
    "#    print(p, '%.1f' % yld)\n",
    "\n",
    "for p in signal_hists['recoil'].identifiers('process'):\n",
    "    yld = np.sum(signal_hists['recoil'].project('jet_selection',jet_selection).project('region',region).project('process', p).values(overflow='all')[()])\n",
    "    print(p, '%.1f' % yld)\n",
    "    \n",
    "print('------------------')\n",
    "print('------------------')\n",
    "print()"
   ]
  },
  {
   "cell_type": "code",
   "execution_count": null,
   "metadata": {},
   "outputs": [],
   "source": []
  },
  {
   "cell_type": "code",
   "execution_count": null,
   "metadata": {},
   "outputs": [],
   "source": []
  }
 ],
 "metadata": {
  "kernelspec": {
   "display_name": "Python 3",
   "language": "python",
   "name": "python3"
  },
  "language_info": {
   "codemirror_mode": {
    "name": "ipython",
    "version": 3
   },
   "file_extension": ".py",
   "mimetype": "text/x-python",
   "name": "python",
   "nbconvert_exporter": "python",
   "pygments_lexer": "ipython3",
   "version": "3.6.8"
  }
 },
 "nbformat": 4,
 "nbformat_minor": 2
}
