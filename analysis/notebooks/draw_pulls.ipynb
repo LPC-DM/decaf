{
 "cells": [
  {
   "cell_type": "code",
   "execution_count": null,
   "metadata": {},
   "outputs": [],
   "source": [
    "import matplotlib.pyplot as plt\n",
    "import numpy as np\n",
    "import mplhep as hep\n",
    "import pandas as pd\n",
    "hep.style.use(\"CMS\")"
   ]
  },
  {
   "cell_type": "code",
   "execution_count": null,
   "metadata": {},
   "outputs": [],
   "source": [
    "df = pd.read_csv('./params.txt', delimiter=',', encoding='utf-8')"
   ]
  },
  {
   "cell_type": "code",
   "execution_count": null,
   "metadata": {},
   "outputs": [],
   "source": [
    "x = np.arange(df.shape[0])"
   ]
  },
  {
   "cell_type": "code",
   "execution_count": null,
   "metadata": {},
   "outputs": [],
   "source": [
    "errps = {'hatch':'////', 'facecolor':'none', 'lw': 0, 'color': 'k', 'alpha': 0.3}\n",
    "err_defaults = {\n",
    "            \"linestyle\": \"none\",\n",
    "            \"marker\": \".\",\n",
    "            \"markersize\": 10.0,\n",
    "            \"elinewidth\": 1,\n",
    "            \"color\": '#0000FF',\n",
    "            \"capsize\": 4,\n",
    "        }\n",
    "fig,ax = plt.subplots(dpi=300, figsize=(30,8))\n",
    "\n",
    "ax.errorbar(x, df['val'], yerr=df['err'], **err_defaults, label='B-only fit')\n",
    "ax.set_xticks(x)\n",
    "ax.set_xticklabels(df['name'], rotation=90, fontsize=10)\n",
    "ax.minorticks_off()\n",
    "ax.fill_between(x, -1, 1, **errps, label='prefit')\n",
    "ax.axhline(0, ls='--', color='k')\n",
    "ax.set_xlim(-0.5, df.shape[0]+0.05)\n",
    "for xcoor in x:\n",
    "    ax.axvline(x=xcoor, linestyle='dotted', color='k', alpha=0.2)\n",
    "ax.legend(loc='upper right')"
   ]
  },
  {
   "cell_type": "code",
   "execution_count": null,
   "metadata": {},
   "outputs": [],
   "source": []
  }
 ],
 "metadata": {
  "kernelspec": {
   "display_name": "hep",
   "language": "python",
   "name": "python3"
  },
  "language_info": {
   "codemirror_mode": {
    "name": "ipython",
    "version": 3
   },
   "file_extension": ".py",
   "mimetype": "text/x-python",
   "name": "python",
   "nbconvert_exporter": "python",
   "pygments_lexer": "ipython3",
   "version": "3.10.6"
  },
  "orig_nbformat": 4
 },
 "nbformat": 4,
 "nbformat_minor": 2
}
