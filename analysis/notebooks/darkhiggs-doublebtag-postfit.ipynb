{
 "cells": [
  {
   "cell_type": "markdown",
   "metadata": {},
   "source": [
    "## Import"
   ]
  },
  {
   "cell_type": "code",
   "execution_count": 1,
   "metadata": {},
   "outputs": [],
   "source": [
    "import uproot as up\n",
    "from cycler import cycler\n",
    "import mplhep as hep\n",
    "import matplotlib.pyplot as plt\n",
    "import numpy as np\n",
    "import os\n",
    "import hist"
   ]
  },
  {
   "cell_type": "markdown",
   "metadata": {},
   "source": [
    "## Define common variables"
   ]
  },
  {
   "cell_type": "code",
   "execution_count": 2,
   "metadata": {},
   "outputs": [],
   "source": [
    "processes = ['genbb', 'genb', 'gencc', 'genc',  'genother']\n",
    "\n",
    "processNames = {\n",
    "    'genb': 'b',\n",
    "    'genbb': r'$b\\bar{b}$',\n",
    "    'genc': 'c',\n",
    "    'gencc': r'$c\\bar{c}$',\n",
    "    'genother': 'light flavor',\n",
    "}\n",
    "\n",
    "colorDict = {\n",
    "    'genbb': '#99ffff',\n",
    "    'genb': '#ccccff',\n",
    "    'gencc': '#ffccff',\n",
    "    'genc': '#ffff99',\n",
    "    'genother': '#ff9999',\n",
    "}"
   ]
  },
  {
   "cell_type": "markdown",
   "metadata": {},
   "source": [
    "## Define useful function"
   ]
  },
  {
   "cell_type": "code",
   "execution_count": 11,
   "metadata": {},
   "outputs": [],
   "source": [
    "def plot_postfit(f, year, category, processes, saveplot=False):\n",
    "    \n",
    "    fig, (ax, rax) = plt.subplots(2, 1, figsize=(10,10), \n",
    "                                  gridspec_kw=dict(height_ratios=[3, 1], hspace=0.07), sharex=True)\n",
    "    errps = {'hatch':'////', 'facecolor':'none', 'lw': 0, 'color': 'k', 'alpha': 0.3}\n",
    "    ax.set_ylabel('Events/GeV', fontsize=15)\n",
    "    ax._get_lines.prop_cycler = ax._get_patches_for_fill.prop_cycler\n",
    "    args = {'linestyle':'--', 'linewidth': 5}\n",
    "    ax.set_yscale('log')\n",
    "    ax.set_ylim(1e-2, 5e+5)\n",
    "    hep.cms.label(ax=ax, loc=0,label='Preliminary', lumi=lumi, year=year, fontsize=15)\n",
    "\n",
    "    preidx = 'svmass'+year+category+'_prefit'\n",
    "    postidx = 'svmass'+year+category+'_postfit'\n",
    "\n",
    "    predir = f[preidx]\n",
    "    postdir = f[postidx]\n",
    "    edges = postdir['TotalBkg'].edges\n",
    "\n",
    "    process_bin = []\n",
    "    colors=[]\n",
    "    mc_list = []\n",
    "\n",
    "    sum_prefit = np.zeros(len(edges)-1)\n",
    "    sum_postfit = np.zeros(len(edges)-1)\n",
    "    sum_postfit_variance = np.zeros(len(edges)-1)\n",
    "\n",
    "    for process in processes:\n",
    "        prebin = predir[process].values\n",
    "        postbin = postdir[process].values\n",
    "        postfit_bin_variance = np.minimum(postbin, postdir[process].variances)\n",
    "        process_bin.append(postbin)\n",
    "        sum_prefit += prebin\n",
    "        sum_postfit += postbin\n",
    "        sum_postfit_variance += postfit_bin_variance\n",
    "        colors.append(colorDict[process])\n",
    "        mc_list.append(processNames[process])\n",
    "\n",
    "    colors.reverse()\n",
    "    ax.set_prop_cycle(cycler(color=colors))\n",
    "\n",
    "    ### Call data ###\n",
    "    data = postdir['data_obs'].values\n",
    "    hep.histplot(data, edges, ax=ax, histtype='errorbar', label=\"Data\", color='k')\n",
    "    hep.histplot(sum_prefit, edges, ax=ax, label=[\"SM total (pre-fit)\"], color='r', \n",
    "                 linestyle='dashed', linewidth=2)\n",
    "    hep.histplot(sum_postfit, edges, ax=ax, label=[\"SM total (post-fit)\"], color='b', linewidth=3)\n",
    "    hep.histplot(process_bin, edges, ax=ax, stack=True, \n",
    "                     histtype='fill', edgecolor = 'k', linewidth=1, label=mc_list)\n",
    "\n",
    "    y1 = sum_postfit - np.sqrt(sum_postfit_variance)\n",
    "    y1 = np.append(y1, 0)\n",
    "    y2 = sum_postfit + np.sqrt(sum_postfit_variance)\n",
    "    y2 = np.append(y2, 0)\n",
    "    ax.fill_between(\n",
    "        x = edges,\n",
    "        y1 = y1,\n",
    "        y2 = y2,\n",
    "        step = 'post',\n",
    "        **errps, label='Unc.'\n",
    "    )\n",
    "\n",
    "    handles, labels = ax.get_legend_handles_labels()\n",
    "    order = [8,0,1,2,3,4,5,6,7]\n",
    "    ax.legend([handles[idx] for idx in order],[labels[idx] for idx in order],\n",
    "                loc='upper right', fontsize=12, ncol=2) \n",
    "\n",
    "    ### Drawing in ratio axes ###\n",
    "    hep.histplot(data/sum_prefit, edges, yerr=np.sqrt(data)/sum_prefit, ax=rax, histtype='errorbar', \n",
    "                 color='r', capsize=4, label=\"Prefit\")\n",
    "    hep.histplot(data/sum_postfit, edges, yerr=np.sqrt(data)/sum_postfit, ax=rax, histtype='errorbar', \n",
    "                 color='b', capsize=4, label=\"Postfit\")\n",
    "\n",
    "    y1 = 1.- np.sqrt(sum_postfit_variance)/sum_postfit_variance\n",
    "    y1 = np.append(y1, 0)\n",
    "    y2 = 1.+ np.sqrt(sum_postfit_variance)/sum_postfit_variance\n",
    "    y2 = np.append(y2, 0)\n",
    "\n",
    "    rax.fill_between(\n",
    "        x = edges,\n",
    "        y1 = y1,\n",
    "        y2 = y2,\n",
    "        step='post',\n",
    "       **errps, label='Bkg Uncs.'\n",
    "    )\n",
    "\n",
    "    rax.axhline(1, ls='--', color='k')\n",
    "    rax.set_ylim(0.3, 1.6)\n",
    "    rax.set_xlabel('log(m_{SV1,d_{xy}sigmax}/GeV)', fontsize=15)\n",
    "    rax.set_ylabel('Obs/Exp', fontsize=15)#, loc='center')\n",
    "    handles, labels = rax.get_legend_handles_labels()\n",
    "    order = [1,2,0]\n",
    "    rax.legend([handles[idx] for idx in order],[labels[idx] for idx in order],\n",
    "               loc='upper right', fontsize=12, ncol=3) \n",
    "    \n",
    "    os.system('mkdir -p ./plots/doublesf/postfit/'+year+'/')\n",
    "    plot_path = os.path.abspath('./plots/doublesf/postfit/'+year+'/')\n",
    "    plot_name = category+'_svmass.png'\n",
    "    \n",
    "    if saveplot:\n",
    "        fig.savefig(os.path.join(plot_path, plot_name))"
   ]
  },
  {
   "cell_type": "code",
   "execution_count": 12,
   "metadata": {},
   "outputs": [
    {
     "ename": "TypeError",
     "evalue": "_exp_label() got an unexpected keyword argument 'label'",
     "output_type": "error",
     "traceback": [
      "\u001b[0;31m---------------------------------------------------------------------------\u001b[0m",
      "\u001b[0;31mTypeError\u001b[0m                                 Traceback (most recent call last)",
      "\u001b[0;32m<ipython-input-12-6cfa19a49aa0>\u001b[0m in \u001b[0;36m<module>\u001b[0;34m\u001b[0m\n\u001b[1;32m     11\u001b[0m \u001b[0mf\u001b[0m \u001b[0;34m=\u001b[0m \u001b[0mup\u001b[0m\u001b[0;34m.\u001b[0m\u001b[0mopen\u001b[0m\u001b[0;34m(\u001b[0m\u001b[0;34m\"../hists/doublebsf.postfit\"\u001b[0m\u001b[0;34m)\u001b[0m\u001b[0;34m\u001b[0m\u001b[0m\n\u001b[1;32m     12\u001b[0m \u001b[0;34m\u001b[0m\u001b[0m\n\u001b[0;32m---> 13\u001b[0;31m \u001b[0mplot_postfit\u001b[0m\u001b[0;34m(\u001b[0m\u001b[0mf\u001b[0m\u001b[0;34m,\u001b[0m \u001b[0myear\u001b[0m\u001b[0;34m,\u001b[0m \u001b[0mcategory\u001b[0m\u001b[0;34m,\u001b[0m \u001b[0mprocesses\u001b[0m\u001b[0;34m,\u001b[0m \u001b[0msaveplot\u001b[0m\u001b[0;34m)\u001b[0m\u001b[0;34m\u001b[0m\u001b[0m\n\u001b[0m",
      "\u001b[0;32m<ipython-input-11-ec3a63f144be>\u001b[0m in \u001b[0;36mplot_postfit\u001b[0;34m(f, year, category, processes, saveplot)\u001b[0m\n\u001b[1;32m      9\u001b[0m     \u001b[0max\u001b[0m\u001b[0;34m.\u001b[0m\u001b[0mset_yscale\u001b[0m\u001b[0;34m(\u001b[0m\u001b[0;34m'log'\u001b[0m\u001b[0;34m)\u001b[0m\u001b[0;34m\u001b[0m\u001b[0m\n\u001b[1;32m     10\u001b[0m     \u001b[0max\u001b[0m\u001b[0;34m.\u001b[0m\u001b[0mset_ylim\u001b[0m\u001b[0;34m(\u001b[0m\u001b[0;36m1e-2\u001b[0m\u001b[0;34m,\u001b[0m \u001b[0;36m5e+5\u001b[0m\u001b[0;34m)\u001b[0m\u001b[0;34m\u001b[0m\u001b[0m\n\u001b[0;32m---> 11\u001b[0;31m     \u001b[0mhep\u001b[0m\u001b[0;34m.\u001b[0m\u001b[0mcms\u001b[0m\u001b[0;34m.\u001b[0m\u001b[0mlabel\u001b[0m\u001b[0;34m(\u001b[0m\u001b[0max\u001b[0m\u001b[0;34m=\u001b[0m\u001b[0max\u001b[0m\u001b[0;34m,\u001b[0m \u001b[0mloc\u001b[0m\u001b[0;34m=\u001b[0m\u001b[0;36m0\u001b[0m\u001b[0;34m,\u001b[0m\u001b[0mlabel\u001b[0m\u001b[0;34m=\u001b[0m\u001b[0;34m'Preliminary'\u001b[0m\u001b[0;34m,\u001b[0m \u001b[0mlumi\u001b[0m\u001b[0;34m=\u001b[0m\u001b[0mlumi\u001b[0m\u001b[0;34m,\u001b[0m \u001b[0myear\u001b[0m\u001b[0;34m=\u001b[0m\u001b[0myear\u001b[0m\u001b[0;34m,\u001b[0m \u001b[0mfontsize\u001b[0m\u001b[0;34m=\u001b[0m\u001b[0;36m15\u001b[0m\u001b[0;34m)\u001b[0m\u001b[0;34m\u001b[0m\u001b[0m\n\u001b[0m\u001b[1;32m     12\u001b[0m \u001b[0;34m\u001b[0m\u001b[0m\n\u001b[1;32m     13\u001b[0m     \u001b[0mpreidx\u001b[0m \u001b[0;34m=\u001b[0m \u001b[0;34m'svmass'\u001b[0m\u001b[0;34m+\u001b[0m\u001b[0myear\u001b[0m\u001b[0;34m+\u001b[0m\u001b[0mcategory\u001b[0m\u001b[0;34m+\u001b[0m\u001b[0;34m'_prefit'\u001b[0m\u001b[0;34m\u001b[0m\u001b[0m\n",
      "\u001b[0;32m~/.local/lib/python3.6/site-packages/mplhep/cms.py\u001b[0m in \u001b[0;36mlabel\u001b[0;34m(**kwargs)\u001b[0m\n\u001b[1;32m     49\u001b[0m \u001b[0;34m@\u001b[0m\u001b[0mdocstring\u001b[0m\u001b[0;34m.\u001b[0m\u001b[0mcopy\u001b[0m\u001b[0;34m(\u001b[0m\u001b[0mlabel_base\u001b[0m\u001b[0;34m.\u001b[0m\u001b[0m_exp_label\u001b[0m\u001b[0;34m)\u001b[0m\u001b[0;34m\u001b[0m\u001b[0m\n\u001b[1;32m     50\u001b[0m \u001b[0;32mdef\u001b[0m \u001b[0mlabel\u001b[0m\u001b[0;34m(\u001b[0m\u001b[0;34m**\u001b[0m\u001b[0mkwargs\u001b[0m\u001b[0;34m)\u001b[0m\u001b[0;34m:\u001b[0m\u001b[0;34m\u001b[0m\u001b[0m\n\u001b[0;32m---> 51\u001b[0;31m     \u001b[0;32mreturn\u001b[0m \u001b[0m_cms_label\u001b[0m\u001b[0;34m(\u001b[0m\u001b[0;34m**\u001b[0m\u001b[0mkwargs\u001b[0m\u001b[0;34m)\u001b[0m\u001b[0;34m\u001b[0m\u001b[0m\n\u001b[0m",
      "\u001b[0;32m~/.local/lib/python3.6/site-packages/mplhep/cms.py\u001b[0m in \u001b[0;36m_cms_label\u001b[0;34m(**kwargs)\u001b[0m\n\u001b[1;32m     33\u001b[0m         ):\n\u001b[1;32m     34\u001b[0m             \u001b[0mkwargs\u001b[0m\u001b[0;34m[\u001b[0m\u001b[0mkey\u001b[0m\u001b[0;34m]\u001b[0m \u001b[0;34m=\u001b[0m \u001b[0mvalue\u001b[0m\u001b[0;34m\u001b[0m\u001b[0m\n\u001b[0;32m---> 35\u001b[0;31m     \u001b[0;32mreturn\u001b[0m \u001b[0mlabel_base\u001b[0m\u001b[0;34m.\u001b[0m\u001b[0m_exp_label\u001b[0m\u001b[0;34m(\u001b[0m\u001b[0mexp\u001b[0m\u001b[0;34m=\u001b[0m\u001b[0;34m\"CMS\"\u001b[0m\u001b[0;34m,\u001b[0m \u001b[0mitalic\u001b[0m\u001b[0;34m=\u001b[0m\u001b[0;34m(\u001b[0m\u001b[0;32mFalse\u001b[0m\u001b[0;34m,\u001b[0m \u001b[0;32mTrue\u001b[0m\u001b[0;34m)\u001b[0m\u001b[0;34m,\u001b[0m \u001b[0;34m**\u001b[0m\u001b[0mkwargs\u001b[0m\u001b[0;34m)\u001b[0m\u001b[0;34m\u001b[0m\u001b[0m\n\u001b[0m\u001b[1;32m     36\u001b[0m \u001b[0;34m\u001b[0m\u001b[0m\n\u001b[1;32m     37\u001b[0m \u001b[0;34m\u001b[0m\u001b[0m\n",
      "\u001b[0;31mTypeError\u001b[0m: _exp_label() got an unexpected keyword argument 'label'"
     ]
    },
    {
     "data": {
      "image/png": "[encoded data removed]",
      "text/plain": [
       "<Figure size 720x720 with 2 Axes>"
      ]
     },
     "metadata": {
      "needs_background": "light"
     },
     "output_type": "display_data"
    }
   ],
   "source": [
    "## year, category\n",
    "year = '2018'\n",
    "category = 'pass'\n",
    "lumis = { #Values from https://twiki.cern.ch/twiki/bin/viewauth/CMS/PdmVAnalysisSummaryTable                                                      \n",
    "        '2016': \"35.92\",\n",
    "        '2017': \"41.53\",\n",
    "        '2018': \"59.74\"\n",
    "    }\n",
    "lumi=lumis[year]\n",
    "saveplot = False\n",
    "f = up.open(\"../hists/doublebsf.postfit\")\n",
    "\n",
    "plot_postfit(f, year, category, processes, saveplot)"
   ]
  },
  {
   "cell_type": "code",
   "execution_count": null,
   "metadata": {},
   "outputs": [],
   "source": []
  }
 ],
 "metadata": {
  "kernelspec": {
   "display_name": "Python 3",
   "language": "python",
   "name": "python3"
  },
  "language_info": {
   "codemirror_mode": {
    "name": "ipython",
    "version": 3
   },
   "file_extension": ".py",
   "mimetype": "text/x-python",
   "name": "python",
   "nbconvert_exporter": "python",
   "pygments_lexer": "ipython3",
   "version": "3.6.5"
  }
 },
 "nbformat": 4,
 "nbformat_minor": 2
}
