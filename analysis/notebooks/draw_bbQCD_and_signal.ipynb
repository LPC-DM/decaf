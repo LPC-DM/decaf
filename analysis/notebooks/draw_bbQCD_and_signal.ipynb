{
 "cells": [
  {
   "cell_type": "code",
   "execution_count": 2,
   "metadata": {},
   "outputs": [],
   "source": [
    "from __future__ import print_function, division\n",
    "from collections import defaultdict, OrderedDict\n",
    "import gzip\n",
    "import pickle\n",
    "import json\n",
    "import os\n",
    "import uproot\n",
    "import matplotlib.pyplot as plt\n",
    "%matplotlib inline\n",
    "import numpy as np\n",
    "from coffea import hist, processor \n",
    "from coffea.hist import plot\n",
    "from coffea.util import load, save"
   ]
  },
  {
   "cell_type": "code",
   "execution_count": 31,
   "metadata": {},
   "outputs": [],
   "source": [
    "year = '2016'\n",
    "\n",
    "hists1 = load('v2/doublebSF'+year+'.scaled')\n",
    "hists2 = load('v2_signal_fjpt170/doublebSF'+year+'_signal.scaled')\n",
    "hists3 = load('v2_signal_fjpt250/doublebSF'+year+'_signal.scaled')\n",
    "\n",
    "gentype_map = {\n",
    "    'bb':       0,\n",
    "    'b':        1,\n",
    "    'cc' :      2,\n",
    "    'c':        3,\n",
    "    'other':    4\n",
    "}\n",
    "\n",
    "category_map = {\n",
    "        \"pass\": 1,\n",
    "        \"fail\": 0\n",
    "        }"
   ]
  },
  {
   "cell_type": "code",
   "execution_count": 32,
   "metadata": {},
   "outputs": [],
   "source": [
    "bkg = hists1['bkg']\n",
    "sigpt170 = hists2['sig']\n",
    "sigpt250 = hists3['sig']"
   ]
  },
  {
   "cell_type": "code",
   "execution_count": null,
   "metadata": {},
   "outputs": [],
   "source": [
    "sigpt170['template']"
   ]
  },
  {
   "cell_type": "code",
   "execution_count": null,
   "metadata": {},
   "outputs": [],
   "source": [
    "#### 2016 Rebinning test\n",
    "#pass_binning = [0.0, 0.1, 0.2, 0.3, 0.4, 0.5, 0.6, 0.7, 0.8, 0.9, 1.0, 1.1, 1.2, 1.3, 1.4, 1.5, 1.6, 1.7, 2.5]\n",
    "#bkg[\"template\"] = bkg[\"template\"].rebin(\"btagJP\", hist.Bin(\"btagJP\", \"btagJP\", pass_binning))\n",
    "\n",
    "fail_binning = [0, 0.1, 0.2, 0.3, 0.4, 0.5, 0.6, 0.7, 0.8, 0.9, 1.0, 1.1, 1.2, 1.3, 1.4, 1.5, 1.6, 1.7, 1.8, 1.9, 2.0, 2.1, 2.2, 2.3, 2.5]\n",
    "data[\"template\"] = data[\"template\"].rebin(\"btagJP\", hist.Bin(\"btagJP\", \"btagJP\", fail_binning))\n",
    "bkg[\"template\"] = bkg[\"template\"].rebin(\"btagJP\", hist.Bin(\"btagJP\", \"btagJP\", fail_binning))\n",
    "data['template'].sum('')"
   ]
  },
  {
   "cell_type": "code",
   "execution_count": null,
   "metadata": {},
   "outputs": [],
   "source": [
    "data['template'].sum('process', 'gentype', 'ZHbbvsQCD', overflow='all').axis('btagJP').edges()"
   ]
  },
  {
   "cell_type": "code",
   "execution_count": null,
   "metadata": {
    "scrolled": true
   },
   "outputs": [],
   "source": [
    "#### QCD cutflow\n",
    "bkg['cutflow'].sum('cut', 'process', overflow='all').values()"
   ]
  },
  {
   "cell_type": "code",
   "execution_count": null,
   "metadata": {},
   "outputs": [],
   "source": [
    "#### data cutflow\n",
    "data['cutflow'].sum('cut', 'process', overflow='all').values()"
   ]
  },
  {
   "cell_type": "code",
   "execution_count": null,
   "metadata": {
    "scrolled": true
   },
   "outputs": [],
   "source": [
    "#### yields by splitting gentype and dark Higgs pass/fail tagger (QCD)\n",
    "gentype_names = ['bb', 'b', 'cc', 'c', 'other']\n",
    "step1 = bkg['template'].sum('process', overflow='all')\n",
    "for i in range(5):\n",
    "    step2 = step1.integrate('gentype', i).values()\n",
    "    print(gentype_names[i], 'fail:', step2[()][:,0].sum(), '/', gentype_names[i], 'pass:', step2[()][:,1].sum())"
   ]
  },
  {
   "cell_type": "code",
   "execution_count": null,
   "metadata": {},
   "outputs": [],
   "source": [
    "#### yields by splitting dark Higgs pass/fail tagger (BTagMu data)\n",
    "step1 = data['template'].sum('process', 'gentype', overflow='all').values()\n",
    "print('fail:', step1[()][:,0].sum(), '/ pass:', step1[()][:,1].sum())"
   ]
  },
  {
   "cell_type": "code",
   "execution_count": 34,
   "metadata": {},
   "outputs": [
    {
     "data": {
      "image/png": "[encoded data removed]",
      "text/plain": [
       "<Figure size 1152x864 with 2 Axes>"
      ]
     },
     "metadata": {
      "needs_background": "light"
     },
     "output_type": "display_data"
    }
   ],
   "source": [
    "fail2016 = [0, 0.53]\n",
    "pass2016 = [0.53, 1]\n",
    "\n",
    "fail2017 = [0, 0.61]\n",
    "pass2017 = [0.61, 1]\n",
    "\n",
    "fail2018 = [0, 0.65]\n",
    "pass2018 = [0.65, 1]\n",
    "\n",
    "hbkg ={}\n",
    "hsig1 = {}\n",
    "hsig2 = {}\n",
    "names = ['bb', 'b', 'cc', 'c', 'others']\n",
    "\n",
    "if year == '2016':\n",
    "    hbkg['fail'] = bkg['template'].rebin('ZHbbvsQCD',hist.Bin('ZHbbvsQCD','ZHbbvsQCD', fail2016))\n",
    "    hsig1['fail'] = sigpt170['template'].rebin('ZHbbvsQCD',hist.Bin('ZHbbvsQCD','ZHbbvsQCD', fail2016))\n",
    "    hsig2['fail'] = sigpt250['template'].rebin('ZHbbvsQCD',hist.Bin('ZHbbvsQCD','ZHbbvsQCD', fail2016))\n",
    "    \n",
    "    hbkg['pass'] = bkg['template'].rebin('ZHbbvsQCD',hist.Bin('ZHbbvsQCD','ZHbbvsQCD', pass2016))\n",
    "    hsig1['pass'] = sigpt170['template'].rebin('ZHbbvsQCD',hist.Bin('ZHbbvsQCD','ZHbbvsQCD', pass2016))\n",
    "    hsig2['pass'] = sigpt250['template'].rebin('ZHbbvsQCD',hist.Bin('ZHbbvsQCD','ZHbbvsQCD', pass2016))\n",
    "    \n",
    "elif year == '2017':\n",
    "    hbkg['fail'] = bkg['template'].rebin('ZHbbvsQCD',hist.Bin('ZHbbvsQCD','ZHbbvsQCD', fail2017))\n",
    "    hsig1['fail'] = sigpt170['template'].rebin('ZHbbvsQCD',hist.Bin('ZHbbvsQCD','ZHbbvsQCD', fail2017))\n",
    "    hsig2['fail'] = sigpt250['template'].rebin('ZHbbvsQCD',hist.Bin('ZHbbvsQCD','ZHbbvsQCD', fail2017))\n",
    "    \n",
    "    hbkg['pass'] = bkg['template'].rebin('ZHbbvsQCD',hist.Bin('ZHbbvsQCD','ZHbbvsQCD', pass2017))\n",
    "    hsig1['pass'] = sigpt170['template'].rebin('ZHbbvsQCD',hist.Bin('ZHbbvsQCD','ZHbbvsQCD', pass2017))\n",
    "    hsig2['pass'] = sigpt250['template'].rebin('ZHbbvsQCD',hist.Bin('ZHbbvsQCD','ZHbbvsQCD', pass2017))\n",
    "\n",
    "else:\n",
    "    hbkg['fail'] = bkg['template'].rebin('ZHbbvsQCD',hist.Bin('ZHbbvsQCD','ZHbbvsQCD', fail2018))\n",
    "    hsig1['fail'] = sigpt170['template'].rebin('ZHbbvsQCD',hist.Bin('ZHbbvsQCD','ZHbbvsQCD', fail2018))\n",
    "    hsig2['fail'] = sigpt250['template'].rebin('ZHbbvsQCD',hist.Bin('ZHbbvsQCD','ZHbbvsQCD', fail2018))\n",
    "\n",
    "    hbkg['pass'] = bkg['template'].rebin('ZHbbvsQCD',hist.Bin('ZHbbvsQCD','ZHbbvsQCD', pass2018))\n",
    "    hsig1['pass'] = sigpt170['template'].rebin('ZHbbvsQCD',hist.Bin('ZHbbvsQCD','ZHbbvsQCD', pass2018))\n",
    "    hsig2['pass'] = sigpt250['template'].rebin('ZHbbvsQCD',hist.Bin('ZHbbvsQCD','ZHbbvsQCD', pass2018))\n",
    "\n",
    "x_bins = np.linspace(0.0, 2.5, num=25)\n",
    "fig, (ax1, ax2) = plt.subplots(1, 2, figsize=(16,12), sharex=True)\n",
    "#print(bkg_fail.sum('process','ZHbbvsQCD'))\n",
    "#print(data_fail.sum('gentype', 'process','ZHbbvsQCD'))\n",
    "\n",
    "cate = 'fail'\n",
    "\n",
    "### Draw QCD per gentype\n",
    "tot = hsig1[cate].sum('process','ZHbbvsQCD').values()[()][0].sum()\n",
    "temp = hsig1[cate].sum('process','ZHbbvsQCD').values()[()][0]/tot\n",
    "ax1.hist(x_bins, bins=x_bins.size, weights=temp, histtype='step', lw=2, label=year+'_signal')\n",
    "ax2.hist(x_bins, bins=x_bins.size, weights=temp, histtype='step', lw=2, label=year+'_signal')\n",
    "    \n",
    "\n",
    "for i in range(1):\n",
    "    tot = hbkg[cate].sum('process','ZHbbvsQCD').values()[()][i].sum()\n",
    "    temp = hbkg[cate].sum('process','ZHbbvsQCD').values()[()][i]/tot\n",
    "    ax1.hist(x_bins, bins=x_bins.size, weights=temp, histtype='step', lw=2, label=year+'_QCD bb')\n",
    "    ax2.hist(x_bins, bins=x_bins.size, weights=temp, histtype='step', lw=2, label=year+'_QCD bb')\n",
    "    \n",
    "    #tot = hsig1[cate].sum('process','ZHbbvsQCD').values()[()][i].sum()\n",
    "    #temp = hsig1[cate].sum('process','ZHbbvsQCD').values()[()][i]/tot\n",
    "    #ax1.hist(x_bins, bins=x_bins.size, weights=temp, histtype='step', lw=2, label='signal fj pt > 170 '+names[i])\n",
    "    #ax2.hist(x_bins, bins=x_bins.size, weights=temp, histtype='step', lw=2, label='signal fj pt > 170 '+names[i])\n",
    "    \n",
    "    #tot = hsig2[cate].sum('process','ZHbbvsQCD').values()[()][i].sum()\n",
    "    #temp = hsig2[cate].sum('process','ZHbbvsQCD').values()[()][i]/tot\n",
    "    #ax1.hist(x_bins, bins=x_bins.size, weights=temp, histtype='step', lw=2, label='signal fj pt > 250 '+names[i])\n",
    "    #ax2.hist(x_bins, bins=x_bins.size, weights=temp, histtype='step', lw=2, label='signal fj pt > 250 '+names[i])\n",
    "    \n",
    "    ax1.set_xlabel(year+' btagJP ('+cate+')', fontsize=15)\n",
    "    ax2.set_xlabel(year+' btagJP ('+cate+') - log scale', fontsize=15)\n",
    "    \n",
    "ax1.legend(fontsize=15, loc='best')\n",
    "ax2.legend(fontsize=15, loc='best')\n",
    "\n",
    "### Log scale for ax2 hist\n",
    "ax2.set_yscale('log')\n",
    "\n",
    "fig.savefig('v2_signal_fjpt170/btagJP_'+year+'_'+cate+'.png')"
   ]
  },
  {
   "cell_type": "code",
   "execution_count": 20,
   "metadata": {
    "scrolled": false
   },
   "outputs": [
    {
     "name": "stdout",
     "output_type": "stream",
     "text": [
      "ZHbbvsQCD\n",
      "btagJP\n",
      "tau21\n",
      "fjmass\n",
      "fj1pt\n"
     ]
    },
    {
     "data": {
      "image/png": "[encoded data removed]",
      "text/plain": [
       "<Figure size 1152x864 with 2 Axes>"
      ]
     },
     "metadata": {
      "needs_background": "light"
     },
     "output_type": "display_data"
    }
   ],
   "source": [
    "fig, (ax1, ax2) = plt.subplots(1, 2, figsize=(16,12), sharex=True)\n",
    "\n",
    "for key in bkg.keys():\n",
    "    if key == 'sumw': continue\n",
    "    if key == 'cutflow': continue\n",
    "    if key == 'template': continue\n",
    "    if key == 'btagJP': continue\n",
    "        \n",
    "    if key == 'fjmass':\n",
    "        x_bins = np.linspace(0.0, 300, num=30)\n",
    "    elif key == 'tau21':\n",
    "        x_bins = np.linspace(0.0, 1.0, num=20)\n",
    "    elif key == 'ZHbbvsQCD':\n",
    "        x_bins = np.linspace(0.0, 1.0, num=15)\n",
    "    #elif key == 'btagJP':\n",
    "    #    x_bins = np.linspace(0.0, 2.5, num=25)\n",
    "    elif key == 'fj1pt':\n",
    "        x_bins = np.array([370.0, 400.0, 430.0, 470.0, 510.0, 550.0, 590.0, 640.0, 690.0, 740.0, 790.0, 840.0, 900.0, 960.0, 1020.0, 1090.0, 1160.0, 1250.0])\n",
    "    \n",
    "    print(key)\n",
    "    \n",
    "    #### Draw QCD\n",
    "    for i in range(1):        \n",
    "        tot = bkg[key].sum('process').values()[()][i].sum()        \n",
    "        w = bkg[key].sum('process').values()[()][i]/tot\n",
    "        \n",
    "        ax1.hist(x_bins, bins=x_bins.size, weights=w, histtype='step', lw=2, label=year+'_QCD bb')        \n",
    "        ax2.hist(x_bins, bins=x_bins.size, weights=w, histtype='step', lw=2, label=year+'_QCD bb')\n",
    "        \n",
    "        tot = sigpt170[key].sum('process').values()[()][i].sum()        \n",
    "        w = sigpt170[key].sum('process').values()[()][i]/tot\n",
    "        \n",
    "        ax1.hist(x_bins, bins=x_bins.size, weights=w, histtype='step', lw=2, label=year+'_signal')        \n",
    "        ax2.hist(x_bins, bins=x_bins.size, weights=w, histtype='step', lw=2, label=year+'_signal')\n",
    "        \n",
    "        ax1.set_xlabel(key, fontsize=15)\n",
    "        ax2.set_xlabel(key+' - log scale', fontsize=15)\n",
    "\n",
    "        ax1.legend(fontsize=15, loc='best')\n",
    "        ax2.legend(fontsize=15, loc='best')\n",
    "        \n",
    "        ax2.set_yscale('log')\n",
    "        fig.savefig('v2_signal_fjpt170/'+key+'_'+year+'.png')\n",
    "\n",
    "        ax1.cla()\n",
    "        ax2.cla()"
   ]
  },
  {
   "cell_type": "code",
   "execution_count": null,
   "metadata": {
    "scrolled": false
   },
   "outputs": [],
   "source": [
    "### one figure per one gentype\n",
    "\n",
    "plt.rcParams.update({\n",
    "    'font.size': 14,\n",
    "    'axes.titlesize': 18,\n",
    "    'axes.labelsize': 18,\n",
    "    'xtick.labelsize': 12,\n",
    "    'ytick.labelsize': 12\n",
    "})\n",
    "\n",
    "\n",
    "x_bins = np.linspace(0.0, 2.5, num=25)\n",
    "names = ['bb', 'b', 'cc', 'c', 'others']\n",
    "key = 'btagJP'\n",
    "\n",
    "for i in range(5):\n",
    "\n",
    "    fig, ax = plt.subplots(\n",
    "    nrows=1,\n",
    "    ncols=1,\n",
    "    figsize=(10,12),\n",
    "    sharex=True\n",
    "    )\n",
    "    \n",
    "\n",
    "    tot = bkg[key].sum('process').values()[()][i].sum()\n",
    "    if tot == 0: continue\n",
    "    temp = bkg[key].sum('process').values()[()][i]/tot\n",
    "    plt.hist(x_bins, bins=x_bins.size, weights=temp, histtype='step', lw=2, label=names[i])\n",
    "    ax.set_xlabel(key, fontsize=15)\n",
    "    ax.legend(fontsize=15)\n",
    "    #fig.savefig(key+'_QCD_'+names[i]+'.png')"
   ]
  },
  {
   "cell_type": "code",
   "execution_count": null,
   "metadata": {},
   "outputs": [],
   "source": [
    "plt.rcParams.update({\n",
    "    'font.size': 14,\n",
    "    'axes.titlesize': 18,\n",
    "    'axes.labelsize': 18,\n",
    "    'xtick.labelsize': 12,\n",
    "    'ytick.labelsize': 12\n",
    "})\n",
    "\n",
    "fig, ax = plt.subplots(\n",
    "    nrows=1,\n",
    "    ncols=1,\n",
    "    figsize=(10,12),\n",
    "    sharex=True\n",
    ")\n",
    "\n",
    "hist.plot1d(sig['btagJP'].sum('gentype'), overlay='process')\n",
    "x_bins = np.linspace(0.0, 1.0, num=25)\n",
    "\n",
    "print(x_bins.size)\n",
    "\n",
    "names = ['bb', 'b', 'cc', 'c', 'others']\n",
    "\n",
    "for i in range(5):\n",
    "    tot = bkg['btagJP'].sum('process').values()[()][i].sum()\n",
    "    if tot == 0: continue\n",
    "    temp = bkg['btagJP'].sum('process').values()[()][i]/tot\n",
    "    plt.hist(x_bins, bins=25, weights=temp, histtype='step', lw=2, label=names[i])\n",
    "\n",
    "\n",
    "ax.set_ylim(0.001, 0.5)\n",
    "ax.set_yscale('log')\n",
    "ax.legend(fontsize=11)\n",
    "#fig.savefig('btagJP.png')"
   ]
  },
  {
   "cell_type": "code",
   "execution_count": null,
   "metadata": {},
   "outputs": [],
   "source": [
    "########################### Signal ###########################\n",
    "hist_sig = load('doublebSFsignal.scaled')\n",
    "\n",
    "sig = hist_sig['sig']\n",
    "category_map = {\n",
    "        \"pass\": 1,\n",
    "        \"fail\": 0\n",
    "        }"
   ]
  },
  {
   "cell_type": "code",
   "execution_count": null,
   "metadata": {},
   "outputs": [],
   "source": [
    "for key in sig.keys():\n",
    "    if key == 'sumw' or key == 'template' or key == 'cutflow': continue\n",
    "    for ipro in sig[key].identifiers('process'):\n",
    "        yld = sig[key].integrate('process', ipro).sum('gentype', key, overflow='all').values()[()]\n",
    "        print(ipro, key, yld)\n",
    "        sig[key].scale({ipro:1./yld},axis='process')"
   ]
  },
  {
   "cell_type": "code",
   "execution_count": null,
   "metadata": {
    "scrolled": false
   },
   "outputs": [],
   "source": [
    "plt.rcParams.update({\n",
    "    'font.size': 14,\n",
    "    'axes.titlesize': 18,\n",
    "    'axes.labelsize': 18,\n",
    "    'xtick.labelsize': 12,\n",
    "    'ytick.labelsize': 12\n",
    "})\n",
    "\n",
    "for key in sig.keys():\n",
    "    if not (key == 'btagJP' or key == 'ZHbbvsQCD'): continue\n",
    "    #if key == 'sumw' or key == 'cutflow' or key == 'template': continue\n",
    "        \n",
    "    fig, ax = plt.subplots(\n",
    "        nrows=1,\n",
    "        ncols=1,\n",
    "        figsize=(10,10),\n",
    "        sharex=True\n",
    "    )\n",
    "        \n",
    "    hist.plot1d(sig[key].sum('gentype', overflow='all'), overlay='process')\n",
    "    #ax.legend(fontsize=12)\n",
    "    #ax.get_legend().remove()\n",
    "    if key == 'fj1pt':\n",
    "        ax.set_ylim(0.01, 0.1)\n",
    "        #ax.set_yscale('log')\n",
    "    #fig.savefig(key+'_signal.png')"
   ]
  },
  {
   "cell_type": "code",
   "execution_count": null,
   "metadata": {},
   "outputs": [],
   "source": []
  }
 ],
 "metadata": {
  "kernelspec": {
   "display_name": "Python 3 (ipykernel)",
   "language": "python",
   "name": "python3"
  },
  "language_info": {
   "codemirror_mode": {
    "name": "ipython",
    "version": 3
   },
   "file_extension": ".py",
   "mimetype": "text/x-python",
   "name": "python",
   "nbconvert_exporter": "python",
   "pygments_lexer": "ipython3",
   "version": "3.10.4"
  }
 },
 "nbformat": 4,
 "nbformat_minor": 4
}
