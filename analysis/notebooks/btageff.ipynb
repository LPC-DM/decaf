{
 "cells": [
  {
   "cell_type": "code",
   "execution_count": 5,
   "metadata": {},
   "outputs": [],
   "source": [
    "from coffea import hist, processor \n",
    "from coffea.hist import plot\n",
    "from coffea.util import load, save\n",
    "import mplhep as hep\n",
    "import matplotlib.pyplot as plt\n",
    "import copy\n",
    "import numpy as np\n",
    "import os\n",
    "from tabulate import tabulate\n",
    "plt.style.use(hep.style.CMS)\n",
    "\n",
    "year = '2018'\n",
    "\n",
    "hists = load('../hists/btageff'+year+'.merged')"
   ]
  },
  {
   "cell_type": "code",
   "execution_count": 2,
   "metadata": {},
   "outputs": [],
   "source": [
    "bpass=hists['deepflav'].integrate('dataset').integrate('wp','loose').integrate('btag', 'pass').values()[()]"
   ]
  },
  {
   "cell_type": "code",
   "execution_count": 3,
   "metadata": {},
   "outputs": [],
   "source": [
    "ball=hists['deepflav'].integrate('dataset').integrate('wp','loose').integrate('btag').values()[()]"
   ]
  },
  {
   "cell_type": "code",
   "execution_count": 4,
   "metadata": {},
   "outputs": [],
   "source": [
    "nom = bpass / np.maximum(ball, 1.)"
   ]
  },
  {
   "cell_type": "code",
   "execution_count": 11,
   "metadata": {},
   "outputs": [
    {
     "name": "stdout",
     "output_type": "stream",
     "text": [
      "\\begin{tabular}{rrr}\n",
      "\\hline\n",
      " 0.410677  & 0.498704  & 0.565142 \\\\\n",
      " 0.0971419 & 0.139712  & 0.203398 \\\\\n",
      " 0.0726075 & 0.104993  & 0.156626 \\\\\n",
      " 0.0621954 & 0.0909364 & 0.138389 \\\\\n",
      " 0.0575892 & 0.0857036 & 0.135502 \\\\\n",
      " 0.0621729 & 0.0971353 & 0.15269  \\\\\n",
      " 0.0792472 & 0.131978  & 0.204053 \\\\\n",
      " 0.121847  & 0.208455  & 0.299933 \\\\\n",
      " 0.255269  & 0.442203  & 0.534506 \\\\\n",
      "\\hline\n",
      "\\end{tabular}\n",
      "\\begin{tabular}{rrr}\n",
      "\\hline\n",
      " 0.720657 & 0.684647 & 0.73913  \\\\\n",
      " 0.461794 & 0.450331 & 0.495703 \\\\\n",
      " 0.445944 & 0.43319  & 0.45056  \\\\\n",
      " 0.441348 & 0.424489 & 0.431926 \\\\\n",
      " 0.44386  & 0.422963 & 0.425818 \\\\\n",
      " 0.459795 & 0.437946 & 0.443806 \\\\\n",
      " 0.487515 & 0.467658 & 0.482213 \\\\\n",
      " 0.526325 & 0.515349 & 0.544333 \\\\\n",
      " 0.583072 & 0.642994 & 0.69152  \\\\\n",
      "\\hline\n",
      "\\end{tabular}\n",
      "\\begin{tabular}{rrr}\n",
      "\\hline\n",
      " 0.894895 & 0.950495 & 0.854545 \\\\\n",
      " 0.907253 & 0.883225 & 0.878258 \\\\\n",
      " 0.912253 & 0.892931 & 0.882823 \\\\\n",
      " 0.915703 & 0.896081 & 0.883209 \\\\\n",
      " 0.91662  & 0.897477 & 0.880238 \\\\\n",
      " 0.919003 & 0.89756  & 0.882691 \\\\\n",
      " 0.921751 & 0.898694 & 0.881275 \\\\\n",
      " 0.925306 & 0.899026 & 0.882368 \\\\\n",
      " 0.925884 & 0.915299 & 0.921809 \\\\\n",
      "\\hline\n",
      "\\end{tabular}\n"
     ]
    }
   ],
   "source": [
    "print(tabulate(nom[0],tablefmt='latex'))\n",
    "print(tabulate(nom[1],tablefmt='latex'))\n",
    "print(tabulate(nom[2],tablefmt='latex'))"
   ]
  },
  {
   "cell_type": "code",
   "execution_count": 14,
   "metadata": {},
   "outputs": [
    {
     "data": {
      "text/plain": [
       "array([0. , 1.4, 2. , 2.5])"
      ]
     },
     "execution_count": 14,
     "metadata": {},
     "output_type": "execute_result"
    }
   ],
   "source": [
    "hists['deepflav'].integrate('dataset').integrate('wp','loose').integrate('btag').axis('abseta').edges()"
   ]
  },
  {
   "cell_type": "code",
   "execution_count": null,
   "metadata": {},
   "outputs": [],
   "source": []
  }
 ],
 "metadata": {
  "kernelspec": {
   "display_name": "Python 3",
   "language": "python",
   "name": "python3"
  },
  "language_info": {
   "codemirror_mode": {
    "name": "ipython",
    "version": 3
   },
   "file_extension": ".py",
   "mimetype": "text/x-python",
   "name": "python",
   "nbconvert_exporter": "python",
   "pygments_lexer": "ipython3",
   "version": "3.6.5"
  }
 },
 "nbformat": 4,
 "nbformat_minor": 2
}
